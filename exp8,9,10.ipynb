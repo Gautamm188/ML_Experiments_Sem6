{
  "cells": [
    {
      "cell_type": "code",
      "execution_count": null,
      "metadata": {
        "id": "GSYFc-J0vMVs"
      },
      "outputs": [],
      "source": []
    },
    {
      "cell_type": "markdown",
      "source": [
        "exp 8 hangman\n"
      ],
      "metadata": {
        "id": "QkEtVqR0JI6r"
      }
    },
    {
      "cell_type": "code",
      "source": [
        "import random\n",
        "import time\n",
        "\n",
        "# List of words for the game\n",
        "words = [\"apple\", \"banana\", \"orange\", \"grape\", \"melon\", \"strawberry\", \"pineapple\"]\n",
        "\n",
        "def choose_word():\n",
        "    \"\"\"Function to randomly choose a word from the list\"\"\"\n",
        "    return random.choice(words)\n",
        "\n",
        "def display_word(word, guessed_letters):\n",
        "    \"\"\"Function to display the word with correctly guessed letters and placeholders for unknown letters\"\"\"\n",
        "    displayed_word = \"\"\n",
        "    for letter in word:\n",
        "        if letter in guessed_letters:\n",
        "            displayed_word += letter + \" \"\n",
        "        else:\n",
        "            displayed_word += \"_ \"\n",
        "    return displayed_word\n",
        "\n",
        "def hangman():\n",
        "    \"\"\"Main function to play the Hangman game\"\"\"\n",
        "    print(\"Welcome to Hangman!\")\n",
        "    time.sleep(1)\n",
        "    print(\"Try to guess the word one letter at a time.\")\n",
        "    time.sleep(1)\n",
        "\n",
        "    word_to_guess = choose_word()\n",
        "    guessed_letters = []\n",
        "    attempts = 6\n",
        "\n",
        "    while attempts > 0:\n",
        "        print(\"\\n\" + display_word(word_to_guess, guessed_letters))\n",
        "        guess = input(\"Enter a letter: \").lower()\n",
        "\n",
        "        if len(guess) != 1 or not guess.isalpha():\n",
        "            print(\"Please enter a single letter.\")\n",
        "            continue\n",
        "\n",
        "        if guess in guessed_letters:\n",
        "            print(\"You already guessed that letter.\")\n",
        "            continue\n",
        "\n",
        "        guessed_letters.append(guess)\n",
        "\n",
        "        if guess not in word_to_guess:\n",
        "            attempts -= 1\n",
        "            print(f\"Sorry, '{guess}' is not in the word. You have {attempts} attempts left.\")\n",
        "            if attempts == 0:\n",
        "                print(\"Game over! The word was:\", word_to_guess)\n",
        "                break\n",
        "        else:\n",
        "            if all(letter in guessed_letters for letter in word_to_guess):\n",
        "                print(\"\\nCongratulations! You guessed the word:\", word_to_guess)\n",
        "                break\n",
        "            print(\"Good guess!\")\n",
        "\n",
        "    play_again = input(\"Do you want to play again? (yes/no): \").lower()\n",
        "    if play_again == \"yes\":\n",
        "        hangman()\n",
        "    else:\n",
        "        print(\"Thanks for playing!\")\n",
        "\n",
        "if __name__ == \"__main__\":\n",
        "    hangman()\n"
      ],
      "metadata": {
        "colab": {
          "base_uri": "https://localhost:8080/"
        },
        "id": "IqMjGSUCIMTn",
        "outputId": "d8647b60-c586-487f-f9a8-9807c33f6fb7"
      },
      "execution_count": 5,
      "outputs": [
        {
          "output_type": "stream",
          "name": "stdout",
          "text": [
            "Welcome to Hangman!\n",
            "Try to guess the word one letter at a time.\n",
            "\n",
            "_ _ _ _ _ _ \n",
            "Enter a letter: q\n",
            "Sorry, 'q' is not in the word. You have 5 attempts left.\n",
            "\n",
            "_ _ _ _ _ _ \n",
            "Enter a letter: w\n",
            "Sorry, 'w' is not in the word. You have 4 attempts left.\n",
            "\n",
            "_ _ _ _ _ _ \n",
            "Enter a letter: e\n",
            "Good guess!\n",
            "\n",
            "_ _ _ _ _ e \n",
            "Enter a letter: r\n",
            "Good guess!\n",
            "\n",
            "_ r _ _ _ e \n",
            "Enter a letter: t\n",
            "Sorry, 't' is not in the word. You have 3 attempts left.\n",
            "\n",
            "_ r _ _ _ e \n",
            "Enter a letter: y\n",
            "Sorry, 'y' is not in the word. You have 2 attempts left.\n",
            "\n",
            "_ r _ _ _ e \n",
            "Enter a letter: u\n",
            "Sorry, 'u' is not in the word. You have 1 attempts left.\n",
            "\n",
            "_ r _ _ _ e \n",
            "Enter a letter: i\n",
            "Sorry, 'i' is not in the word. You have 0 attempts left.\n",
            "Game over! The word was: orange\n",
            "Do you want to play again? (yes/no): no\n",
            "Thanks for playing!\n"
          ]
        }
      ]
    },
    {
      "cell_type": "code",
      "source": [],
      "metadata": {
        "id": "60Biq_QsIQfd"
      },
      "execution_count": null,
      "outputs": []
    },
    {
      "cell_type": "markdown",
      "source": [
        "EXP 9 water jug\n"
      ],
      "metadata": {
        "id": "rNdpsqGHJNDU"
      }
    },
    {
      "cell_type": "code",
      "source": [
        "# Function to recursively solve the Water Jug Problem\n",
        "def solve_water_jug_problem(X, Y, target):\n",
        "    # Memoization to store visited states\n",
        "    memo = set()\n",
        "\n",
        "    # Recursive function to explore all possible moves\n",
        "    def dfs(x, y, path):\n",
        "        # Base case: If target state is reached\n",
        "        if x == target or y == target:\n",
        "            return path + [(x, y)]\n",
        "        # Check if current state has been visited before\n",
        "        if (x, y) in memo:\n",
        "            return None\n",
        "        # Add current state to visited states\n",
        "        memo.add((x, y))\n",
        "\n",
        "        # List of possible moves\n",
        "        moves = [\n",
        "            (X, y, 'Fill the first jug'),\n",
        "            (x, Y, 'Fill the second jug'),\n",
        "            (0, y, 'Empty the first jug'),\n",
        "            (x, 0, 'Empty the second jug'),\n",
        "            (min(x + y, X), max(0, x + y - X), 'Pour from second to first jug'),\n",
        "            (max(0, x + y - Y), min(x + y, Y), 'Pour from first to second jug')\n",
        "        ]\n",
        "\n",
        "        # Recursively explore all possible moves\n",
        "        for move in moves:\n",
        "            result = dfs(*move[:2], path + [(x, y, move[2])])\n",
        "            if result:\n",
        "                return result\n",
        "        return None\n",
        "\n",
        "    # Start the recursion from the initial state (0, 0)\n",
        "    return dfs(0, 0, [])\n",
        "\n",
        "# Define the capacities of the jugs and the target amount\n",
        "X_capacity = 4\n",
        "Y_capacity = 3\n",
        "target_amount = 2\n",
        "\n",
        "# Solve the Water Jug Problem and print the result\n",
        "result = solve_water_jug_problem(X_capacity, Y_capacity, target_amount)\n",
        "if result:\n",
        "    print(\"It is possible to measure exactly\", target_amount, \"gallons of water in the 4-gallon jug.\")\n",
        "    print(\"Steps to achieve the target:\")\n",
        "    for step, state in enumerate(result):\n",
        "        if len(state) == 3:\n",
        "            print(f\"Step {step + 1}: {state[2]}. Current state: ({state[0]}, {state[1]})\")\n",
        "        #else:\n",
        "         #   print(\"Invalid state format.\")\n",
        "else:\n",
        "    print(\"It is not possible to measure exactly\", target_amount, \"gallons of water in the 4-gallon jug.\")\n"
      ],
      "metadata": {
        "colab": {
          "base_uri": "https://localhost:8080/"
        },
        "id": "RBxyTb1lJTwX",
        "outputId": "68e9fb06-9882-4dd8-9b43-badfb98b8927"
      },
      "execution_count": 9,
      "outputs": [
        {
          "output_type": "stream",
          "name": "stdout",
          "text": [
            "It is possible to measure exactly 2 gallons of water in the 4-gallon jug.\n",
            "Steps to achieve the target:\n",
            "Step 1: Fill the first jug. Current state: (0, 0)\n",
            "Step 2: Fill the second jug. Current state: (4, 0)\n",
            "Step 3: Empty the first jug. Current state: (4, 3)\n",
            "Step 4: Pour from second to first jug. Current state: (0, 3)\n",
            "Step 5: Fill the second jug. Current state: (3, 0)\n",
            "Step 6: Pour from second to first jug. Current state: (3, 3)\n"
          ]
        }
      ]
    },
    {
      "cell_type": "code",
      "source": [],
      "metadata": {
        "id": "QjxjnE5RJiCv"
      },
      "execution_count": null,
      "outputs": []
    },
    {
      "cell_type": "markdown",
      "source": [
        "exp 10 tic tac toe\n"
      ],
      "metadata": {
        "id": "tnlT3FVDKhgM"
      }
    },
    {
      "cell_type": "code",
      "source": [
        "import numpy as np\n",
        "import random\n",
        "\n",
        "def check_winner(board):\n",
        "    # Check rows and columns\n",
        "    for i in range(3):\n",
        "        if board[i][0] == board[i][1] == board[i][2] != 0 or board[0][i] == board[1][i] == board[2][i] != 0:\n",
        "            return board[i][0]\n",
        "    # Check diagonals\n",
        "    if board[0][0] == board[1][1] == board[2][2] != 0 or board[0][2] == board[1][1] == board[2][0] != 0:\n",
        "        return board[1][1]\n",
        "    return 0\n",
        "\n",
        "def print_board(board):\n",
        "    symbols = {-1: 'O', 0: ' ', 1: 'X'}\n",
        "    row_divider = \"\\n\" + \"-\" * 9 + \"\\n\"\n",
        "    board_str = row_divider.join([\" | \".join([symbols[cell] for cell in row]) for row in board])\n",
        "    print(board_str)\n",
        "    print()\n",
        "    print()\n",
        "\n",
        "def play_tic_tac_toe():\n",
        "    board = np.zeros((3, 3), dtype=int)\n",
        "    player = 1\n",
        "\n",
        "    for _ in range(9):\n",
        "        # Randomly choose an empty cell\n",
        "        empty_cells = [(i, j) for i in range(3) for j in range(3) if board[i][j] == 0]\n",
        "        row, col = random.choice(empty_cells)\n",
        "\n",
        "        # Place the player's mark in the chosen cell\n",
        "        board[row][col] = player\n",
        "\n",
        "        # Print the current board\n",
        "        print_board(board)\n",
        "\n",
        "        # Check for a winner\n",
        "        winner = check_winner(board)\n",
        "        if winner != 0:\n",
        "            print(\"Player\", winner, \"wins!\")\n",
        "            return winner\n",
        "\n",
        "        # Switch players\n",
        "        player *= -1\n",
        "\n",
        "    print(\"The game is drawn.\")\n",
        "    return -1\n",
        "\n",
        "if __name__ == \"__main__\":\n",
        "    play_tic_tac_toe()\n"
      ],
      "metadata": {
        "colab": {
          "base_uri": "https://localhost:8080/"
        },
        "id": "on77n5BiKg7S",
        "outputId": "83285a61-d156-4986-cc87-e248a408d480"
      },
      "execution_count": 12,
      "outputs": [
        {
          "output_type": "stream",
          "name": "stdout",
          "text": [
            "  |   |  \n",
            "---------\n",
            "  | X |  \n",
            "---------\n",
            "  |   |  \n",
            "\n",
            "\n",
            "  |   |  \n",
            "---------\n",
            "  | X |  \n",
            "---------\n",
            "O |   |  \n",
            "\n",
            "\n",
            "  |   |  \n",
            "---------\n",
            "X | X |  \n",
            "---------\n",
            "O |   |  \n",
            "\n",
            "\n",
            "O |   |  \n",
            "---------\n",
            "X | X |  \n",
            "---------\n",
            "O |   |  \n",
            "\n",
            "\n",
            "O |   | X\n",
            "---------\n",
            "X | X |  \n",
            "---------\n",
            "O |   |  \n",
            "\n",
            "\n",
            "O |   | X\n",
            "---------\n",
            "X | X |  \n",
            "---------\n",
            "O |   | O\n",
            "\n",
            "\n",
            "O | X | X\n",
            "---------\n",
            "X | X |  \n",
            "---------\n",
            "O |   | O\n",
            "\n",
            "\n",
            "O | X | X\n",
            "---------\n",
            "X | X | O\n",
            "---------\n",
            "O |   | O\n",
            "\n",
            "\n",
            "O | X | X\n",
            "---------\n",
            "X | X | O\n",
            "---------\n",
            "O | X | O\n",
            "\n",
            "\n",
            "Player 1 wins!\n"
          ]
        }
      ]
    },
    {
      "cell_type": "code",
      "source": [],
      "metadata": {
        "id": "NRRAC1GNKtog"
      },
      "execution_count": null,
      "outputs": []
    }
  ],
  "metadata": {
    "colab": {
      "provenance": []
    },
    "kernelspec": {
      "display_name": "Python 3",
      "name": "python3"
    },
    "language_info": {
      "name": "python"
    }
  },
  "nbformat": 4,
  "nbformat_minor": 0
}